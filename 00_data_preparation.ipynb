{
 "cells": [
  {
   "cell_type": "markdown",
   "metadata": {
    "vscode": {
     "languageId": "plaintext"
    }
   },
   "source": [
    "# Data Preparation"
   ]
  },
  {
   "cell_type": "code",
   "execution_count": 1,
   "metadata": {},
   "outputs": [],
   "source": [
    "import os\n",
    "import random\n",
    "import pandas as pd\n",
    "from tqdm import tqdm\n",
    "from sklearn.model_selection import train_test_split"
   ]
  },
  {
   "cell_type": "code",
   "execution_count": 2,
   "metadata": {},
   "outputs": [],
   "source": [
    "pd.set_option('display.max_colwidth', None)\n",
    "random_seed = 2024"
   ]
  },
  {
   "cell_type": "markdown",
   "metadata": {},
   "source": [
    "## Load Data\n",
    "Source: https://chartalist.org/eth/TaskTypePrediction.html"
   ]
  },
  {
   "cell_type": "code",
   "execution_count": 3,
   "metadata": {},
   "outputs": [
    {
     "data": {
      "text/plain": [
       "['exchangeLabels.csv',\n",
       " 'token_transfers_full.csv',\n",
       " 'alphacore_labels_stablecoin.csv',\n",
       " 'README.md',\n",
       " '.ipynb_checkpoints',\n",
       " 'train_data.csv',\n",
       " 'eth_trans_graph.pickle',\n",
       " 'test_data.csv']"
      ]
     },
     "execution_count": 3,
     "metadata": {},
     "output_type": "execute_result"
    }
   ],
   "source": [
    "data_dir = '../data/ethereum-exchanges'\n",
    "os.listdir(data_dir)"
   ]
  },
  {
   "cell_type": "code",
   "execution_count": 4,
   "metadata": {},
   "outputs": [
    {
     "name": "stdout",
     "output_type": "stream",
     "text": [
      "(38901039, 7)\n"
     ]
    },
    {
     "data": {
      "text/html": [
       "<div>\n",
       "<style scoped>\n",
       "    .dataframe tbody tr th:only-of-type {\n",
       "        vertical-align: middle;\n",
       "    }\n",
       "\n",
       "    .dataframe tbody tr th {\n",
       "        vertical-align: top;\n",
       "    }\n",
       "\n",
       "    .dataframe thead th {\n",
       "        text-align: right;\n",
       "    }\n",
       "</style>\n",
       "<table border=\"1\" class=\"dataframe\">\n",
       "  <thead>\n",
       "    <tr style=\"text-align: right;\">\n",
       "      <th></th>\n",
       "      <th>token_address</th>\n",
       "      <th>from_address</th>\n",
       "      <th>to_address</th>\n",
       "      <th>value</th>\n",
       "      <th>transaction_hash</th>\n",
       "      <th>log_index</th>\n",
       "      <th>block_number</th>\n",
       "    </tr>\n",
       "  </thead>\n",
       "  <tbody>\n",
       "    <tr>\n",
       "      <th>0</th>\n",
       "      <td>0xb64ef51c888972c908cfacf59b47c1afbc0ab8ac</td>\n",
       "      <td>0x78903c52de3923d203881f1b766160cba5a37f59</td>\n",
       "      <td>0xc20d6d7d2e7cde1cabc7f20c553fe93dada380f3</td>\n",
       "      <td>209000000</td>\n",
       "      <td>0x430d2a02f678d28bb6e441cd383a6ddd02f30c05378d64fb4e34a17cf0162735</td>\n",
       "      <td>29</td>\n",
       "      <td>6525300</td>\n",
       "    </tr>\n",
       "    <tr>\n",
       "      <th>1</th>\n",
       "      <td>0xb64ef51c888972c908cfacf59b47c1afbc0ab8ac</td>\n",
       "      <td>0x78903c52de3923d203881f1b766160cba5a37f59</td>\n",
       "      <td>0xc4c49dbf1b4bc997c9a9758c1b1f86d33da4232d</td>\n",
       "      <td>191000000</td>\n",
       "      <td>0x5e138acd30d124a6ff031326fa91e1c4d0a345a2955d4a8be9f753fce73abd09</td>\n",
       "      <td>33</td>\n",
       "      <td>6525300</td>\n",
       "    </tr>\n",
       "    <tr>\n",
       "      <th>2</th>\n",
       "      <td>0xb64ef51c888972c908cfacf59b47c1afbc0ab8ac</td>\n",
       "      <td>0x78903c52de3923d203881f1b766160cba5a37f59</td>\n",
       "      <td>0xab194b0c3e3423ec6cbe44fdf096cb43251d1ccd</td>\n",
       "      <td>181000000</td>\n",
       "      <td>0xacccc26bb6ed8e03b7b6b17e1a7ee9a209ad0e3d7d19bac5703f62dd31d6762a</td>\n",
       "      <td>36</td>\n",
       "      <td>6525300</td>\n",
       "    </tr>\n",
       "    <tr>\n",
       "      <th>3</th>\n",
       "      <td>0xb64ef51c888972c908cfacf59b47c1afbc0ab8ac</td>\n",
       "      <td>0x78903c52de3923d203881f1b766160cba5a37f59</td>\n",
       "      <td>0xe29b47e4d0cc68b847226c652f2a5e73d1a94343</td>\n",
       "      <td>204000000</td>\n",
       "      <td>0x0600e6d229b403adb01bb6e54bebf0af329e30016427cc959fb91833986d23eb</td>\n",
       "      <td>37</td>\n",
       "      <td>6525300</td>\n",
       "    </tr>\n",
       "    <tr>\n",
       "      <th>4</th>\n",
       "      <td>0xb64ef51c888972c908cfacf59b47c1afbc0ab8ac</td>\n",
       "      <td>0x78903c52de3923d203881f1b766160cba5a37f59</td>\n",
       "      <td>0x5d0a1a7c7507142f06c04ffd604ab7b85b442f98</td>\n",
       "      <td>209000000</td>\n",
       "      <td>0xd4527c3f59fb6fa066646ab6aff57de86bb688c93569d47dfbec90d84abc9982</td>\n",
       "      <td>38</td>\n",
       "      <td>6525300</td>\n",
       "    </tr>\n",
       "  </tbody>\n",
       "</table>\n",
       "</div>"
      ],
      "text/plain": [
       "                                token_address  \\\n",
       "0  0xb64ef51c888972c908cfacf59b47c1afbc0ab8ac   \n",
       "1  0xb64ef51c888972c908cfacf59b47c1afbc0ab8ac   \n",
       "2  0xb64ef51c888972c908cfacf59b47c1afbc0ab8ac   \n",
       "3  0xb64ef51c888972c908cfacf59b47c1afbc0ab8ac   \n",
       "4  0xb64ef51c888972c908cfacf59b47c1afbc0ab8ac   \n",
       "\n",
       "                                 from_address  \\\n",
       "0  0x78903c52de3923d203881f1b766160cba5a37f59   \n",
       "1  0x78903c52de3923d203881f1b766160cba5a37f59   \n",
       "2  0x78903c52de3923d203881f1b766160cba5a37f59   \n",
       "3  0x78903c52de3923d203881f1b766160cba5a37f59   \n",
       "4  0x78903c52de3923d203881f1b766160cba5a37f59   \n",
       "\n",
       "                                   to_address      value  \\\n",
       "0  0xc20d6d7d2e7cde1cabc7f20c553fe93dada380f3  209000000   \n",
       "1  0xc4c49dbf1b4bc997c9a9758c1b1f86d33da4232d  191000000   \n",
       "2  0xab194b0c3e3423ec6cbe44fdf096cb43251d1ccd  181000000   \n",
       "3  0xe29b47e4d0cc68b847226c652f2a5e73d1a94343  204000000   \n",
       "4  0x5d0a1a7c7507142f06c04ffd604ab7b85b442f98  209000000   \n",
       "\n",
       "                                                     transaction_hash  \\\n",
       "0  0x430d2a02f678d28bb6e441cd383a6ddd02f30c05378d64fb4e34a17cf0162735   \n",
       "1  0x5e138acd30d124a6ff031326fa91e1c4d0a345a2955d4a8be9f753fce73abd09   \n",
       "2  0xacccc26bb6ed8e03b7b6b17e1a7ee9a209ad0e3d7d19bac5703f62dd31d6762a   \n",
       "3  0x0600e6d229b403adb01bb6e54bebf0af329e30016427cc959fb91833986d23eb   \n",
       "4  0xd4527c3f59fb6fa066646ab6aff57de86bb688c93569d47dfbec90d84abc9982   \n",
       "\n",
       "   log_index  block_number  \n",
       "0         29       6525300  \n",
       "1         33       6525300  \n",
       "2         36       6525300  \n",
       "3         37       6525300  \n",
       "4         38       6525300  "
      ]
     },
     "execution_count": 4,
     "metadata": {},
     "output_type": "execute_result"
    }
   ],
   "source": [
    "# Load transaction data\n",
    "df_trans = pd.read_csv(\n",
    "    os.path.join(data_dir, \"token_transfers_full.csv\"), encoding=\"windows-1252\"\n",
    ")\n",
    "print(df_trans.shape)\n",
    "df_trans.head()"
   ]
  },
  {
   "cell_type": "code",
   "execution_count": 5,
   "metadata": {},
   "outputs": [
    {
     "name": "stdout",
     "output_type": "stream",
     "text": [
      "(296, 3)\n"
     ]
    },
    {
     "data": {
      "text/html": [
       "<div>\n",
       "<style scoped>\n",
       "    .dataframe tbody tr th:only-of-type {\n",
       "        vertical-align: middle;\n",
       "    }\n",
       "\n",
       "    .dataframe tbody tr th {\n",
       "        vertical-align: top;\n",
       "    }\n",
       "\n",
       "    .dataframe thead th {\n",
       "        text-align: right;\n",
       "    }\n",
       "</style>\n",
       "<table border=\"1\" class=\"dataframe\">\n",
       "  <thead>\n",
       "    <tr style=\"text-align: right;\">\n",
       "      <th></th>\n",
       "      <th>type</th>\n",
       "      <th>address</th>\n",
       "      <th>name</th>\n",
       "    </tr>\n",
       "  </thead>\n",
       "  <tbody>\n",
       "    <tr>\n",
       "      <th>0</th>\n",
       "      <td>dex</td>\n",
       "      <td>0x11111254369792b2ca5d084ab5eea397ca8fa48b</td>\n",
       "      <td>1inch.exchange</td>\n",
       "    </tr>\n",
       "    <tr>\n",
       "      <th>1</th>\n",
       "      <td>dex</td>\n",
       "      <td>0xe8fff15bb5e14095bfdfa8bb85d83cc900c23c56</td>\n",
       "      <td>AfroDex</td>\n",
       "    </tr>\n",
       "    <tr>\n",
       "      <th>2</th>\n",
       "      <td>dex</td>\n",
       "      <td>0x4572f2554421bd64bef1c22c8a81840e8d496bea</td>\n",
       "      <td>AirSwap</td>\n",
       "    </tr>\n",
       "    <tr>\n",
       "      <th>3</th>\n",
       "      <td>dex</td>\n",
       "      <td>0xdc1882f350b42ac9a23508996254b1915c78b204</td>\n",
       "      <td>Allbit 1</td>\n",
       "    </tr>\n",
       "    <tr>\n",
       "      <th>4</th>\n",
       "      <td>dex</td>\n",
       "      <td>0xff6b1cdfd2d3e37977d7938aa06b6d89d6675e27</td>\n",
       "      <td>Allbit 2</td>\n",
       "    </tr>\n",
       "  </tbody>\n",
       "</table>\n",
       "</div>"
      ],
      "text/plain": [
       "  type                                     address            name\n",
       "0  dex  0x11111254369792b2ca5d084ab5eea397ca8fa48b  1inch.exchange\n",
       "1  dex  0xe8fff15bb5e14095bfdfa8bb85d83cc900c23c56         AfroDex\n",
       "2  dex  0x4572f2554421bd64bef1c22c8a81840e8d496bea         AirSwap\n",
       "3  dex  0xdc1882f350b42ac9a23508996254b1915c78b204        Allbit 1\n",
       "4  dex  0xff6b1cdfd2d3e37977d7938aa06b6d89d6675e27        Allbit 2"
      ]
     },
     "execution_count": 5,
     "metadata": {},
     "output_type": "execute_result"
    }
   ],
   "source": [
    "# Load Exchange data\n",
    "df_exchange = pd.read_csv(os.path.join(data_dir, 'exchangeLabels.csv'))\n",
    "print(df_exchange.shape)\n",
    "df_exchange.head()"
   ]
  },
  {
   "cell_type": "markdown",
   "metadata": {},
   "source": [
    "## Generate Train and Test Data"
   ]
  },
  {
   "cell_type": "code",
   "execution_count": 6,
   "metadata": {},
   "outputs": [
    {
     "name": "stdout",
     "output_type": "stream",
     "text": [
      "(177, 3)\n",
      "(119, 3)\n"
     ]
    }
   ],
   "source": [
    "df_ex_train, df_ex_test = train_test_split(\n",
    "    df_exchange, test_size=0.4, random_state=random_seed\n",
    ")\n",
    "\n",
    "print(df_ex_train.shape)\n",
    "print(df_ex_test.shape)"
   ]
  },
  {
   "cell_type": "code",
   "execution_count": 7,
   "metadata": {},
   "outputs": [
    {
     "name": "stdout",
     "output_type": "stream",
     "text": [
      "Total Addresses: 6083422\n",
      "train: (162, 3)\n",
      "test: (108, 3)\n"
     ]
    }
   ],
   "source": [
    "# Preprocess exchange data: Ensure that exchange addresses exists in transaction data\n",
    "\n",
    "all_add_lst = list(set(df_trans[\"from_address\"].tolist() + df_trans[\"to_address\"].tolist()))\n",
    "print(f\"Total Addresses: {len(all_add_lst)}\")\n",
    "\n",
    "df_ex_train = df_ex_train.loc[(df_ex_train['address'].isin(all_add_lst))].reset_index(drop=True)\n",
    "df_ex_test = df_ex_test.loc[(df_ex_test['address'].isin(all_add_lst))].reset_index(drop=True)\n",
    "\n",
    "print(f\"train: {df_ex_train.shape}\")\n",
    "print(f\"test: {df_ex_test.shape}\")"
   ]
  },
  {
   "cell_type": "code",
   "execution_count": 8,
   "metadata": {},
   "outputs": [
    {
     "name": "stdout",
     "output_type": "stream",
     "text": [
      "1162\n",
      "1108\n"
     ]
    }
   ],
   "source": [
    "# Generate fair evaluation dataset. \n",
    "# Test dataset must contain (i) Exchange Addresses and (ii) Non Exchange Addresses\n",
    "\n",
    "n_neg_samples_train = 1000\n",
    "n_neg_samples_test = 1000\n",
    "\n",
    "tmp_all_add_lst = list(set(all_add_lst) - set(df_ex_train['address'].tolist() + df_ex_test['address'].tolist()))\n",
    "tmp_all_add_lst = random.sample(tmp_all_add_lst, n_neg_samples_train + n_neg_samples_test)\n",
    "train_node_lst = tmp_all_add_lst[:n_neg_samples_train] + df_ex_train['address'].tolist()\n",
    "test_node_lst = tmp_all_add_lst[n_neg_samples_train:] + df_ex_test['address'].tolist()\n",
    "\n",
    "print(len(train_node_lst))\n",
    "print(len(test_node_lst))"
   ]
  },
  {
   "cell_type": "code",
   "execution_count": 9,
   "metadata": {},
   "outputs": [
    {
     "name": "stdout",
     "output_type": "stream",
     "text": [
      "(1162, 2)\n"
     ]
    },
    {
     "data": {
      "text/html": [
       "<div>\n",
       "<style scoped>\n",
       "    .dataframe tbody tr th:only-of-type {\n",
       "        vertical-align: middle;\n",
       "    }\n",
       "\n",
       "    .dataframe tbody tr th {\n",
       "        vertical-align: top;\n",
       "    }\n",
       "\n",
       "    .dataframe thead th {\n",
       "        text-align: right;\n",
       "    }\n",
       "</style>\n",
       "<table border=\"1\" class=\"dataframe\">\n",
       "  <thead>\n",
       "    <tr style=\"text-align: right;\">\n",
       "      <th></th>\n",
       "      <th>address</th>\n",
       "      <th>lbl</th>\n",
       "    </tr>\n",
       "  </thead>\n",
       "  <tbody>\n",
       "    <tr>\n",
       "      <th>0</th>\n",
       "      <td>0xb9ce8fdd626309ab1e642d30dc14ad05a27c9b23</td>\n",
       "      <td>0</td>\n",
       "    </tr>\n",
       "    <tr>\n",
       "      <th>1</th>\n",
       "      <td>0xc5858e01e42bb82c0ab3fc9f9523c3d40c4075b9</td>\n",
       "      <td>0</td>\n",
       "    </tr>\n",
       "    <tr>\n",
       "      <th>2</th>\n",
       "      <td>0x3af3e15ac95f38dd606eda46f67c1d4f379ed634</td>\n",
       "      <td>0</td>\n",
       "    </tr>\n",
       "    <tr>\n",
       "      <th>3</th>\n",
       "      <td>0xa5b606acae97c95cc61b9b955e41aa3431028db1</td>\n",
       "      <td>0</td>\n",
       "    </tr>\n",
       "    <tr>\n",
       "      <th>4</th>\n",
       "      <td>0xb4b079ea5537cf9436215a62a409740795da8c47</td>\n",
       "      <td>0</td>\n",
       "    </tr>\n",
       "  </tbody>\n",
       "</table>\n",
       "</div>"
      ],
      "text/plain": [
       "                                      address  lbl\n",
       "0  0xb9ce8fdd626309ab1e642d30dc14ad05a27c9b23    0\n",
       "1  0xc5858e01e42bb82c0ab3fc9f9523c3d40c4075b9    0\n",
       "2  0x3af3e15ac95f38dd606eda46f67c1d4f379ed634    0\n",
       "3  0xa5b606acae97c95cc61b9b955e41aa3431028db1    0\n",
       "4  0xb4b079ea5537cf9436215a62a409740795da8c47    0"
      ]
     },
     "execution_count": 9,
     "metadata": {},
     "output_type": "execute_result"
    }
   ],
   "source": [
    "# Generate training labels\n",
    "df_train = pd.DataFrame({'address': train_node_lst})\n",
    "df_train['lbl'] = 0\n",
    "df_train.loc[(df_train['address'].isin(df_exchange['address'].tolist())), 'lbl'] = 1\n",
    "print(df_train.shape)\n",
    "df_train.head()"
   ]
  },
  {
   "cell_type": "code",
   "execution_count": 10,
   "metadata": {},
   "outputs": [
    {
     "name": "stdout",
     "output_type": "stream",
     "text": [
      "(1108, 2)\n"
     ]
    },
    {
     "data": {
      "text/html": [
       "<div>\n",
       "<style scoped>\n",
       "    .dataframe tbody tr th:only-of-type {\n",
       "        vertical-align: middle;\n",
       "    }\n",
       "\n",
       "    .dataframe tbody tr th {\n",
       "        vertical-align: top;\n",
       "    }\n",
       "\n",
       "    .dataframe thead th {\n",
       "        text-align: right;\n",
       "    }\n",
       "</style>\n",
       "<table border=\"1\" class=\"dataframe\">\n",
       "  <thead>\n",
       "    <tr style=\"text-align: right;\">\n",
       "      <th></th>\n",
       "      <th>address</th>\n",
       "      <th>lbl</th>\n",
       "    </tr>\n",
       "  </thead>\n",
       "  <tbody>\n",
       "    <tr>\n",
       "      <th>0</th>\n",
       "      <td>0x41e8a0e3fad348186bb3bdd3a0d013d040e16d6d</td>\n",
       "      <td>0</td>\n",
       "    </tr>\n",
       "    <tr>\n",
       "      <th>1</th>\n",
       "      <td>0x9524a46630aedcb5a4a3a32fba936149bba3217d</td>\n",
       "      <td>0</td>\n",
       "    </tr>\n",
       "    <tr>\n",
       "      <th>2</th>\n",
       "      <td>0x7ab88e36dd39d2f13f1eb108540a5b8fed4db5d0</td>\n",
       "      <td>0</td>\n",
       "    </tr>\n",
       "    <tr>\n",
       "      <th>3</th>\n",
       "      <td>0xc5dad67d940ffbc6031220920dfee4a28ff3e569</td>\n",
       "      <td>0</td>\n",
       "    </tr>\n",
       "    <tr>\n",
       "      <th>4</th>\n",
       "      <td>0xd015f7932ddd3117279f60e88692d2a1712cae84</td>\n",
       "      <td>0</td>\n",
       "    </tr>\n",
       "  </tbody>\n",
       "</table>\n",
       "</div>"
      ],
      "text/plain": [
       "                                      address  lbl\n",
       "0  0x41e8a0e3fad348186bb3bdd3a0d013d040e16d6d    0\n",
       "1  0x9524a46630aedcb5a4a3a32fba936149bba3217d    0\n",
       "2  0x7ab88e36dd39d2f13f1eb108540a5b8fed4db5d0    0\n",
       "3  0xc5dad67d940ffbc6031220920dfee4a28ff3e569    0\n",
       "4  0xd015f7932ddd3117279f60e88692d2a1712cae84    0"
      ]
     },
     "execution_count": 10,
     "metadata": {},
     "output_type": "execute_result"
    }
   ],
   "source": [
    "# Generate testing labels\n",
    "df_test = pd.DataFrame({'address': test_node_lst})\n",
    "df_test['lbl'] = 0\n",
    "df_test.loc[(df_test['address'].isin(df_exchange['address'].tolist())), 'lbl'] = 1\n",
    "print(df_test.shape)\n",
    "df_test.head()"
   ]
  },
  {
   "cell_type": "markdown",
   "metadata": {},
   "source": [
    "## Save Train and Test Datasets"
   ]
  },
  {
   "cell_type": "code",
   "execution_count": 12,
   "metadata": {},
   "outputs": [],
   "source": [
    "train_fp = os.path.join(data_dir, 'train_data.csv')\n",
    "test_fp = os.path.join(data_dir, 'test_data.csv')"
   ]
  },
  {
   "cell_type": "markdown",
   "metadata": {},
   "source": []
  },
  {
   "cell_type": "code",
   "execution_count": 13,
   "metadata": {},
   "outputs": [
    {
     "name": "stdout",
     "output_type": "stream",
     "text": [
      "Saved: ../data/ethereum-exchanges/train_data.csv\n"
     ]
    }
   ],
   "source": [
    "df_train.to_csv(train_fp, index=False)\n",
    "print(f\"Saved: {train_fp}\")"
   ]
  },
  {
   "cell_type": "code",
   "execution_count": 14,
   "metadata": {},
   "outputs": [
    {
     "name": "stdout",
     "output_type": "stream",
     "text": [
      "Saved: ../data/ethereum-exchanges/test_data.csv\n"
     ]
    }
   ],
   "source": [
    "df_test.to_csv(test_fp, index=False)\n",
    "print(f\"Saved: {test_fp}\")"
   ]
  },
  {
   "cell_type": "code",
   "execution_count": null,
   "metadata": {},
   "outputs": [],
   "source": []
  }
 ],
 "metadata": {
  "kernelspec": {
   "display_name": "crypto_py311",
   "language": "python",
   "name": "python3"
  },
  "language_info": {
   "codemirror_mode": {
    "name": "ipython",
    "version": 3
   },
   "file_extension": ".py",
   "mimetype": "text/x-python",
   "name": "python",
   "nbconvert_exporter": "python",
   "pygments_lexer": "ipython3",
   "version": "3.11.9"
  }
 },
 "nbformat": 4,
 "nbformat_minor": 2
}
